{
 "cells": [
  {
   "cell_type": "code",
   "execution_count": 98,
   "metadata": {},
   "outputs": [],
   "source": [
    "from sklearn.tree import *\n",
    "from sklearn.metrics import classification_report\n",
    "import numpy as np\n",
    "import joblib\n",
    "import os\n",
    "from sklearn.naive_bayes import *\n",
    "from sklearn.decomposition import PCA\n",
    "from sklearn.model_selection import train_test_split\n",
    "from sklearn.naive_bayes import GaussianNB\n",
    "from deap import *"
   ]
  },
  {
   "cell_type": "code",
   "execution_count": null,
   "metadata": {},
   "outputs": [],
   "source": [
    "data = np.load(\"C:\\\\Users\\\\Alan Phan\\\\Desktop\\\\Bach Khoa Studies\\\\HK242\\\\Machine Learning\\\\Assignments\\\\AI-MedMNIST-Classification\\\\AI-MedMNIST-Classification\\\\data\\\\preprocessed\\\\train_data.npz\")\n",
    "x_train, y_train = data[\"x_train\"], data[\"y_train\"].ravel()\n",
    "\n",
    "x_train, x_val, y_train, y_val = train_test_split(x_train, y_train, test_size=0.2, random_state=42, stratify=y_train)\n",
    "\n",
    "data = np.load(\"C:\\\\Users\\\\Alan Phan\\\\Desktop\\\\Bach Khoa Studies\\\\HK242\\\\Machine Learning\\\\Assignments\\\\AI-MedMNIST-Classification\\\\AI-MedMNIST-Classification\\\\data\\\\preprocessed\\\\test_data.npz\")\n",
    "x_test, y_test = data[\"x_test\"], data[\"y_test\"].ravel()\n"
   ]
  },
  {
   "cell_type": "code",
   "execution_count": null,
   "metadata": {},
   "outputs": [],
   "source": [
    "x_train = x_train.reshape(x_train.shape[0], -1)\n",
    "x_test = x_test.reshape(x_test.shape[0], -1)\n",
    "\n",
    "pca = PCA(n_components=10)\n",
    "x_train_pca = pca.fit_transform(x_train)\n",
    "x_test_pca = pca.transform(x_test)\n",
    "\n",
    "x_train_pca, x_val_pca, y_train, y_val = train_test_split(x_train_pca, y_train, test_size=0.2, random_state=42)\n"
   ]
  },
  {
   "cell_type": "code",
   "execution_count": 101,
   "metadata": {},
   "outputs": [],
   "source": [
    "from deap import base, creator, tools, algorithms\n",
    "import random\n",
    "from sklearn.metrics import accuracy_score\n",
    "\n",
    "def fitness_function(params):\n",
    "    var_smoothing = 10 ** params[0]\n",
    "    model = GaussianNB(var_smoothing=var_smoothing)\n",
    "    model.fit(x_train_pca, y_train)\n",
    "    \n",
    "    y_pred = model.predict(x_val_pca)\n",
    "    accuracy = accuracy_score(y_val, y_pred)\n",
    "    \n",
    "    return (accuracy,)\n"
   ]
  },
  {
   "cell_type": "code",
   "execution_count": 102,
   "metadata": {},
   "outputs": [
    {
     "name": "stderr",
     "output_type": "stream",
     "text": [
      "c:\\Users\\Alan Phan\\AppData\\Local\\Programs\\Python\\Python312\\Lib\\site-packages\\deap\\creator.py:185: RuntimeWarning: A class named 'FitnessMax' has already been created and it will be overwritten. Consider deleting previous creation of that class or rename it.\n",
      "  warnings.warn(\"A class named '{0}' has already been created and it \"\n",
      "c:\\Users\\Alan Phan\\AppData\\Local\\Programs\\Python\\Python312\\Lib\\site-packages\\deap\\creator.py:185: RuntimeWarning: A class named 'Individual' has already been created and it will be overwritten. Consider deleting previous creation of that class or rename it.\n",
      "  warnings.warn(\"A class named '{0}' has already been created and it \"\n"
     ]
    },
    {
     "name": "stdout",
     "output_type": "stream",
     "text": [
      "gen\tnevals\n",
      "0  \t10    \n",
      "1  \t2     \n",
      "2  \t6     \n",
      "3  \t2     \n",
      "4  \t4     \n",
      "5  \t5     \n",
      "6  \t4     \n",
      "7  \t7     \n",
      "8  \t6     \n",
      "9  \t9     \n",
      "10 \t7     \n",
      "11 \t8     \n",
      "12 \t4     \n",
      "13 \t5     \n",
      "14 \t4     \n",
      "15 \t7     \n",
      "16 \t6     \n",
      "17 \t10    \n",
      "18 \t6     \n",
      "19 \t7     \n",
      "20 \t8     \n",
      "21 \t5     \n",
      "22 \t4     \n",
      "23 \t6     \n",
      "24 \t6     \n",
      "25 \t4     \n",
      "26 \t8     \n",
      "27 \t2     \n",
      "28 \t4     \n",
      "29 \t6     \n",
      "30 \t5     \n",
      "31 \t4     \n",
      "32 \t5     \n",
      "33 \t5     \n",
      "34 \t6     \n",
      "35 \t6     \n",
      "36 \t4     \n",
      "37 \t7     \n",
      "38 \t8     \n",
      "39 \t7     \n",
      "40 \t6     \n",
      "41 \t4     \n",
      "42 \t5     \n",
      "43 \t4     \n",
      "44 \t5     \n",
      "45 \t8     \n",
      "46 \t8     \n",
      "47 \t7     \n",
      "48 \t8     \n",
      "49 \t8     \n",
      "50 \t6     \n",
      "Best var_smoothing: 1.775960186321084e-05\n"
     ]
    }
   ],
   "source": [
    "# GA Configuration\n",
    "creator.create(\"FitnessMax\", base.Fitness, weights=(1.0,))  \n",
    "creator.create(\"Individual\", list, fitness=creator.FitnessMax)\n",
    "\n",
    "toolbox = base.Toolbox()\n",
    "toolbox.register(\"attr_float\", random.uniform, -10, 0)  \n",
    "toolbox.register(\"individual\", tools.initRepeat, creator.Individual, toolbox.attr_float, n=1)\n",
    "toolbox.register(\"population\", tools.initRepeat, list, toolbox.individual)\n",
    "\n",
    "toolbox.register(\"evaluate\", fitness_function)\n",
    "toolbox.register(\"mate\", tools.cxBlend, alpha=0.5)\n",
    "toolbox.register(\"mutate\", tools.mutGaussian, mu=0, sigma=1, indpb=0.2)\n",
    "toolbox.register(\"select\", tools.selTournament, tournsize=3)\n",
    "\n",
    "POP_SIZE = 10\n",
    "NGEN = 50\n",
    "MUTPB = 0.2\n",
    "CXPB = 0.5\n",
    "\n",
    "population = toolbox.population(n=POP_SIZE)\n",
    "algorithms.eaSimple(population, toolbox, cxpb=CXPB, mutpb=MUTPB, ngen=NGEN, \n",
    "                    stats=None, halloffame=None, verbose=True)\n",
    "\n",
    "best_ind = tools.selBest(population, k=1)[0]\n",
    "best_var_smoothing = 10 ** best_ind[0]\n",
    "print(f\"Best var_smoothing: {best_var_smoothing}\")\n"
   ]
  },
  {
   "cell_type": "code",
   "execution_count": 103,
   "metadata": {},
   "outputs": [
    {
     "name": "stdout",
     "output_type": "stream",
     "text": [
      "              precision    recall  f1-score   support\n",
      "\n",
      "           0       0.89      0.86      0.88      1338\n",
      "           1       0.55      0.99      0.71       847\n",
      "           2       0.43      0.54      0.48       339\n",
      "           3       0.70      0.57      0.63       634\n",
      "           4       0.54      0.23      0.32      1035\n",
      "           5       0.59      0.08      0.14       592\n",
      "           6       0.42      0.22      0.29       741\n",
      "           7       0.25      0.65      0.37       421\n",
      "           8       0.58      0.67      0.62      1233\n",
      "\n",
      "    accuracy                           0.57      7180\n",
      "   macro avg       0.55      0.54      0.49      7180\n",
      "weighted avg       0.60      0.57      0.54      7180\n",
      "\n",
      "Model saved successfully at: models\\trained\\naive_bayes_with_ga_best_grid.pkl\n"
     ]
    }
   ],
   "source": [
    "final_model = GaussianNB(var_smoothing=best_var_smoothing)\n",
    "final_model.fit(x_train_pca, y_train)\n",
    "\n",
    "y_pred = final_model.predict(x_test_pca)\n",
    "\n",
    "# Evaluate performance\n",
    "print(classification_report(y_test, y_pred))\n",
    "\n",
    "# save model\n",
    "model_save_path = os.path.join(\"models\", \"trained\", \"naive_bayes_with_ga_best_grid.pkl\")\n",
    "\n",
    "# Ensure the directory exists\n",
    "os.makedirs(os.path.dirname(model_save_path), exist_ok=True)\n",
    "\n",
    "# Save the model\n",
    "joblib.dump(final_model, model_save_path)\n",
    "print(f\"Model saved successfully at: {model_save_path}\")\n"
   ]
  }
 ],
 "metadata": {
  "kernelspec": {
   "display_name": "Python 3",
   "language": "python",
   "name": "python3"
  },
  "language_info": {
   "codemirror_mode": {
    "name": "ipython",
    "version": 3
   },
   "file_extension": ".py",
   "mimetype": "text/x-python",
   "name": "python",
   "nbconvert_exporter": "python",
   "pygments_lexer": "ipython3",
   "version": "3.12.0"
  }
 },
 "nbformat": 4,
 "nbformat_minor": 2
}
