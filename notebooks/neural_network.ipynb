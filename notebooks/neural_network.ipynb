{
 "cells": [
  {
   "cell_type": "markdown",
   "metadata": {},
   "source": [
    "# Library"
   ]
  },
  {
   "cell_type": "code",
   "execution_count": null,
   "metadata": {
    "execution": {
     "iopub.execute_input": "2025-03-10T19:41:05.210763Z",
     "iopub.status.busy": "2025-03-10T19:41:05.210369Z",
     "iopub.status.idle": "2025-03-10T19:41:05.231058Z",
     "shell.execute_reply": "2025-03-10T19:41:05.229786Z",
     "shell.execute_reply.started": "2025-03-10T19:41:05.210728Z"
    },
    "trusted": true
   },
   "outputs": [],
   "source": [
    "import numpy as np\n",
    "import pandas as pd\n",
    "import random\n",
    "import pickle\n",
    "import torch\n",
    "import torch.nn as nn\n",
    "import torch.optim as optim\n",
    "from torch.utils.data import DataLoader, TensorDataset, random_split\n",
    "from sklearn.metrics import accuracy_score, classification_report, confusion_matrix\n",
    "from sklearn.model_selection import ParameterGrid\n",
    "from sklearn.model_selection import KFold\n",
    "import matplotlib.pyplot as plt\n",
    "import seaborn as sns"
   ]
  },
  {
   "cell_type": "markdown",
   "metadata": {},
   "source": [
    "# Load data"
   ]
  },
  {
   "cell_type": "code",
   "execution_count": null,
   "metadata": {
    "execution": {
     "iopub.execute_input": "2025-03-10T19:41:05.233459Z",
     "iopub.status.busy": "2025-03-10T19:41:05.232968Z",
     "iopub.status.idle": "2025-03-10T19:41:05.257425Z",
     "shell.execute_reply": "2025-03-10T19:41:05.256211Z",
     "shell.execute_reply.started": "2025-03-10T19:41:05.233421Z"
    },
    "trusted": true
   },
   "outputs": [],
   "source": [
    "# Loading the preprocess data\n",
    "train = np.load(\"../data/preprocessed/train_data.npz\") \n",
    "test = np.load(\"../data/preprocessed/test_data.npz\")"
   ]
  },
  {
   "cell_type": "code",
   "execution_count": null,
   "metadata": {
    "execution": {
     "iopub.execute_input": "2025-03-10T19:41:05.258760Z",
     "iopub.status.busy": "2025-03-10T19:41:05.258425Z",
     "iopub.status.idle": "2025-03-10T19:41:05.312706Z",
     "shell.execute_reply": "2025-03-10T19:41:05.311569Z",
     "shell.execute_reply.started": "2025-03-10T19:41:05.258734Z"
    },
    "trusted": true
   },
   "outputs": [],
   "source": [
    "# Get the data for training and testing\n",
    "X_train = torch.tensor(train[\"x_train\"], dtype=torch.float32)\n",
    "y_train = torch.tensor(train['y_train'], dtype=torch.long)\n",
    "X_test = torch.tensor(test[\"x_test\"], dtype=torch.float32)\n",
    "y_test = torch.tensor(test['y_test'], dtype=torch.long)"
   ]
  },
  {
   "cell_type": "code",
   "execution_count": null,
   "metadata": {
    "execution": {
     "iopub.execute_input": "2025-03-10T19:41:05.313982Z",
     "iopub.status.busy": "2025-03-10T19:41:05.313661Z",
     "iopub.status.idle": "2025-03-10T19:41:05.322449Z",
     "shell.execute_reply": "2025-03-10T19:41:05.321405Z",
     "shell.execute_reply.started": "2025-03-10T19:41:05.313956Z"
    },
    "trusted": true
   },
   "outputs": [],
   "source": [
    "print(X_train[:1])\n",
    "print(y_train[:1])\n",
    "print()"
   ]
  },
  {
   "cell_type": "markdown",
   "metadata": {},
   "source": [
    "# Train model"
   ]
  },
  {
   "cell_type": "code",
   "execution_count": null,
   "metadata": {
    "execution": {
     "iopub.execute_input": "2025-03-10T19:41:05.356944Z",
     "iopub.status.busy": "2025-03-10T19:41:05.356497Z",
     "iopub.status.idle": "2025-03-10T19:41:05.377483Z",
     "shell.execute_reply": "2025-03-10T19:41:05.376316Z",
     "shell.execute_reply.started": "2025-03-10T19:41:05.356900Z"
    },
    "trusted": true
   },
   "outputs": [],
   "source": [
    "num_classes = len(np.unique(y_train))"
   ]
  },
  {
   "cell_type": "code",
   "execution_count": null,
   "metadata": {
    "execution": {
     "iopub.execute_input": "2025-03-10T19:41:05.395105Z",
     "iopub.status.busy": "2025-03-10T19:41:05.394678Z",
     "iopub.status.idle": "2025-03-10T19:41:11.946322Z",
     "shell.execute_reply": "2025-03-10T19:41:11.944899Z",
     "shell.execute_reply.started": "2025-03-10T19:41:05.395064Z"
    },
    "trusted": true
   },
   "outputs": [],
   "source": [
    "%%time\n",
    "# Your original code\n",
    "train_size = int(0.8 * len(X_train))\n",
    "val_size = len(X_train) - train_size\n",
    "train_data, val_data = random_split(TensorDataset(X_train, y_train), [train_size, val_size])\n",
    "\n",
    "# Device configuration\n",
    "device = torch.device(\"cuda\" if torch.cuda.is_available() else \"cpu\")\n",
    "print(\"Using device:\", device)\n",
    "\n",
    "# Define the MLP model\n",
    "class MLPModel(nn.Module):\n",
    "    def __init__(self, input_size=50, hidden_sizes=[256, 128, 128], output_size=9):\n",
    "        super(MLPModel, self).__init__()\n",
    "        self.model = nn.Sequential(\n",
    "            nn.Linear(input_size, hidden_sizes[0]),\n",
    "            nn.ReLU(),\n",
    "            nn.Linear(hidden_sizes[0], hidden_sizes[1]),\n",
    "            nn.Tanh(),\n",
    "            nn.Linear(hidden_sizes[1], hidden_sizes[2]),\n",
    "            nn.ReLU(),\n",
    "            nn.Linear(hidden_sizes[2], output_size),\n",
    "        )\n",
    "    \n",
    "    def forward(self, x):\n",
    "        return self.model(x)\n",
    "\n",
    "# Initialize model, loss, and optimizer\n",
    "model = MLPModel().to(device)\n",
    "criterion = nn.CrossEntropyLoss()\n",
    "optimizer = optim.SGD(model.parameters(), lr=0.1, momentum=0.9)\n",
    "\n",
    "# Create DataLoader\n",
    "batch_size = 64\n",
    "train_loader = DataLoader(train_data, batch_size=batch_size, shuffle=True)\n",
    "val_loader = DataLoader(val_data, batch_size=batch_size, shuffle=False)\n",
    "\n",
    "# Function to train and evaluate the model\n",
    "def train_model(model, train_loader, val_loader, criterion, optimizer, epochs=10):\n",
    "    best_val_acc = 0.0\n",
    "    best_val_loss = float('inf')\n",
    "    model.train()\n",
    "    for epoch in range(epochs):\n",
    "        total_loss = 0\n",
    "        for batch_X, batch_y in train_loader:\n",
    "            optimizer.zero_grad()\n",
    "            outputs = model(batch_X)\n",
    "            loss = criterion(outputs, batch_y)\n",
    "            loss.backward()\n",
    "            optimizer.step()\n",
    "            total_loss += loss.item()\n",
    "        \n",
    "        # Validation phase\n",
    "        model.eval()\n",
    "        val_loss = 0\n",
    "        correct = 0\n",
    "        total = 0\n",
    "        with torch.no_grad():\n",
    "            for batch_X, batch_y in val_loader:\n",
    "                outputs = model(batch_X)\n",
    "                loss = criterion(outputs, batch_y)\n",
    "                val_loss += loss.item()\n",
    "                _, predicted = torch.max(outputs, 1)\n",
    "                correct += (predicted == batch_y).sum().item()\n",
    "                total += batch_y.size(0)\n",
    "        val_accuracy = correct / total\n",
    "        avg_val_loss = val_loss / len(val_loader)\n",
    "        model.train()\n",
    "\n",
    "        # Save model if validation accuracy improves\n",
    "        if val_accuracy > best_val_acc:\n",
    "            best_val_acc = val_accuracy\n",
    "            torch.save(model.state_dict(), \"best_model_acc.pth\")\n",
    "            print(f\"✅Model saved at epoch {epoch+1} with Val Acc: {val_accuracy:.4f}\")\n",
    "        \n",
    "        # Save model if validation loss improves\n",
    "        if avg_val_loss < best_val_loss:\n",
    "            best_val_loss = avg_val_loss\n",
    "            torch.save(model.state_dict(), \"best_model_loss.pth\")\n",
    "            print(f\"🚹Model saved at epoch {epoch+1} with Val Loss: {avg_val_loss:.4f}\")\n",
    "        \n",
    "        print(f\"Epoch {epoch+1}/{epochs}, Loss: {total_loss/len(train_loader):.4f}, Val Loss: {val_loss/len(val_loader):.4f}, Val Acc: {val_accuracy:.4f}\")\n",
    "    \n",
    "    return best_val_acc, best_val_loss  # Return validation accuracy and loss\n",
    "\n",
    "# Train the model with fixed hyperparameters\n",
    "train_model(model, train_loader, val_loader, criterion, optimizer, epochs=2)"
   ]
  },
  {
   "cell_type": "markdown",
   "metadata": {},
   "source": [
    "# Hyperparameter"
   ]
  },
  {
   "cell_type": "code",
   "execution_count": null,
   "metadata": {
    "execution": {
     "iopub.execute_input": "2025-03-10T19:41:11.948368Z",
     "iopub.status.busy": "2025-03-10T19:41:11.947705Z",
     "iopub.status.idle": "2025-03-10T19:42:47.903459Z",
     "shell.execute_reply": "2025-03-10T19:42:47.902421Z",
     "shell.execute_reply.started": "2025-03-10T19:41:11.948325Z"
    },
    "trusted": true
   },
   "outputs": [],
   "source": [
    "# Parameter Tuning Section\n",
    "print(\"\\nStarting Parameter Tuning...\")\n",
    "\n",
    "# Define hyperparameter grid for tuning\n",
    "param_grid = {\n",
    "    'lr': [0.01, 0.1],  # Learning rates to try\n",
    "    'batch_size': [64, 128],  # Batch sizes to try\n",
    "    'hidden_sizes': [[256, 128, 128], [256, 256, 128], [256, 256, 256]],  # Architectures to try\n",
    "    'momentum': [0.9, 0.95],  # Momentum values to try\n",
    "}\n",
    "\n",
    "# Perform grid search\n",
    "best_hyperparams = None\n",
    "best_accuracy = 0.0\n",
    "\n",
    "for params in ParameterGrid(param_grid):\n",
    "    print(f\"\\nTraining with hyperparameters: {params}\")\n",
    "    \n",
    "    # Create DataLoader with current batch size\n",
    "    train_loader = DataLoader(train_data, batch_size=params['batch_size'], shuffle=True)\n",
    "    val_loader = DataLoader(val_data, batch_size=params['batch_size'], shuffle=False)\n",
    "    \n",
    "    # Initialize model, loss, and optimizer with current hyperparameters\n",
    "    model = MLPModel(hidden_sizes=params['hidden_sizes']).to(device)\n",
    "    criterion = nn.CrossEntropyLoss()\n",
    "    optimizer = optim.SGD(model.parameters(), lr=params['lr'], momentum=params['momentum'])\n",
    "    \n",
    "    # Train the model\n",
    "    val_accuracy, val_loss = train_model(model, train_loader, val_loader, criterion, optimizer, epochs=2)\n",
    "    \n",
    "    # Track the best hyperparameters\n",
    "    if val_accuracy > best_accuracy:\n",
    "        best_accuracy = val_accuracy\n",
    "        best_hyperparams = params\n",
    "\n",
    "print(f\"\\nBest hyperparameters: {best_hyperparams} with validation accuracy: {best_accuracy:.4f}\")"
   ]
  },
  {
   "cell_type": "markdown",
   "metadata": {},
   "source": [
    "# Cross Validation"
   ]
  },
  {
   "cell_type": "code",
   "execution_count": null,
   "metadata": {
    "execution": {
     "iopub.execute_input": "2025-03-10T19:42:47.904769Z",
     "iopub.status.busy": "2025-03-10T19:42:47.904463Z",
     "iopub.status.idle": "2025-03-10T19:43:00.940206Z",
     "shell.execute_reply": "2025-03-10T19:43:00.939097Z",
     "shell.execute_reply.started": "2025-03-10T19:42:47.904732Z"
    },
    "trusted": true
   },
   "outputs": [],
   "source": [
    "# Define the number of folds (k)\n",
    "k = 5\n",
    "kf = KFold(n_splits=k, shuffle=True, random_state=42)\n",
    "\n",
    "# Lists to store results for each fold\n",
    "fold_results = []\n",
    "\n",
    "# Perform k-fold cross-validation\n",
    "for fold, (train_idx, val_idx) in enumerate(kf.split(train_data)):\n",
    "    print(f\"\\nFold {fold + 1}/{k}\")\n",
    "    \n",
    "    # Split dataset into training and validation sets for this fold\n",
    "    train_fold = torch.utils.data.Subset(train_data, train_idx)\n",
    "    val_fold = torch.utils.data.Subset(train_data, val_idx)\n",
    "    \n",
    "    # Create DataLoader for this fold\n",
    "    train_loader = DataLoader(train_fold, batch_size=batch_size, shuffle=True)\n",
    "    val_loader = DataLoader(val_fold, batch_size=batch_size, shuffle=False)\n",
    "    \n",
    "    # Initialize a new model for this fold\n",
    "    model = MLPModel().to(device)\n",
    "    criterion = nn.CrossEntropyLoss()\n",
    "    optimizer = optim.SGD(model.parameters(), lr=0.1, momentum=0.9)\n",
    "    \n",
    "    # Train and evaluate the model\n",
    "    val_accuracy, val_loss = train_model(model, train_loader, val_loader, criterion, optimizer, epochs=1)\n",
    "    \n",
    "    # Store results for this fold\n",
    "    fold_results.append({\n",
    "        'fold': fold + 1,\n",
    "        'val_accuracy': val_accuracy,\n",
    "        'val_loss': val_loss\n",
    "    })\n",
    "    print(f\"Fold {fold + 1} completed. Val Acc: {val_accuracy:.4f}, Val Loss: {val_loss:.4f}\")\n",
    "\n",
    "# Aggregate results across all folds\n",
    "avg_val_acc = np.mean([result['val_accuracy'] for result in fold_results])\n",
    "avg_val_loss = np.mean([result['val_loss'] for result in fold_results])\n",
    "print(f\"\\nCross-Validation Results: Avg Val Acc: {avg_val_acc:.4f}, Avg Val Loss: {avg_val_loss:.4f}\")"
   ]
  },
  {
   "cell_type": "markdown",
   "metadata": {},
   "source": [
    "# Prediction"
   ]
  },
  {
   "cell_type": "code",
   "execution_count": null,
   "metadata": {
    "execution": {
     "iopub.execute_input": "2025-03-10T19:43:00.941468Z",
     "iopub.status.busy": "2025-03-10T19:43:00.941185Z",
     "iopub.status.idle": "2025-03-10T19:43:02.196409Z",
     "shell.execute_reply": "2025-03-10T19:43:02.195294Z",
     "shell.execute_reply.started": "2025-03-10T19:43:00.941443Z"
    },
    "trusted": true
   },
   "outputs": [],
   "source": [
    "# Create DataLoader for testing\n",
    "test_dataset = TensorDataset(X_test, y_test)\n",
    "test_loader = DataLoader(test_dataset, batch_size=64, shuffle=False)\n",
    "\n",
    "# Function to evaluate the model\n",
    "def evaluate_model(model, test_loader):\n",
    "    model.eval()\n",
    "    y_true = []\n",
    "    y_pred = []\n",
    "    with torch.no_grad():\n",
    "        for batch_X, batch_y in test_loader:\n",
    "            outputs = model(batch_X)\n",
    "            _, predicted = torch.max(outputs, 1)\n",
    "            y_true.extend(batch_y.cpu().numpy())\n",
    "            y_pred.extend(predicted.cpu().numpy())\n",
    "    return y_true, y_pred\n",
    "\n",
    "# Function to plot confusion matrix\n",
    "def plot_confusion_matrix(y_true, y_pred, title):\n",
    "    cm = confusion_matrix(y_true, y_pred)\n",
    "    plt.figure(figsize=(8, 6))\n",
    "    sns.heatmap(cm, annot=True, fmt='d', cmap='Blues', xticklabels=range(9), yticklabels=range(9))\n",
    "    plt.title(title)\n",
    "    plt.xlabel('Predicted')\n",
    "    plt.ylabel('True')\n",
    "    plt.show()\n",
    "\n",
    "# Load the best model based on validation accuracy\n",
    "model_acc = MLPModel().to(device)\n",
    "model_acc.load_state_dict(torch.load(\"best_model_acc.pth\"))\n",
    "model_acc.eval()\n",
    "\n",
    "# Evaluate the best accuracy model\n",
    "y_true_acc, y_pred_acc = evaluate_model(model_acc, test_loader)\n",
    "print(\"Classification Report for Best Accuracy Model:\")\n",
    "print(classification_report(y_true_acc, y_pred_acc))\n",
    "plot_confusion_matrix(y_true_acc, y_pred_acc, \"Confusion Matrix for Best Accuracy Model\")\n",
    "\n",
    "# Load the best model based on validation loss\n",
    "model_loss = MLPModel().to(device)\n",
    "model_loss.load_state_dict(torch.load(\"best_model_loss.pth\"))\n",
    "model_loss.eval()\n",
    "\n",
    "# Evaluate the best loss model\n",
    "y_true_loss, y_pred_loss = evaluate_model(model_loss, test_loader)\n",
    "print(\"Classification Report for Best Loss Model:\")\n",
    "print(classification_report(y_true_loss, y_pred_loss))\n",
    "plot_confusion_matrix(y_true_loss, y_pred_loss, \"Confusion Matrix for Best Loss Model\")"
   ]
  },
  {
   "cell_type": "code",
   "execution_count": null,
   "metadata": {
    "trusted": true
   },
   "outputs": [],
   "source": []
  }
 ],
 "metadata": {
  "kaggle": {
   "accelerator": "none",
   "dataSources": [
    {
     "datasetId": 6815239,
     "sourceId": 10955250,
     "sourceType": "datasetVersion"
    }
   ],
   "dockerImageVersionId": 30918,
   "isGpuEnabled": false,
   "isInternetEnabled": true,
   "language": "python",
   "sourceType": "notebook"
  },
  "kernelspec": {
   "display_name": "ML",
   "language": "python",
   "name": "python3"
  },
  "language_info": {
   "codemirror_mode": {
    "name": "ipython",
    "version": 3
   },
   "file_extension": ".py",
   "mimetype": "text/x-python",
   "name": "python",
   "nbconvert_exporter": "python",
   "pygments_lexer": "ipython3",
   "version": "3.12.9"
  }
 },
 "nbformat": 4,
 "nbformat_minor": 4
}
